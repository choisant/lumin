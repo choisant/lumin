{
 "cells": [
  {
   "cell_type": "code",
   "execution_count": 1,
   "metadata": {},
   "outputs": [],
   "source": [
    "import uproot\n",
    "import lumin\n",
    "import numpy as np\n",
    "import pandas as pd\n",
    "import awkward as ak\n",
    "from sklearn.model_selection import StratifiedKFold, KFold\n",
    "import h5py"
   ]
  },
  {
   "cell_type": "code",
   "execution_count": 2,
   "metadata": {},
   "outputs": [],
   "source": [
    "data_path = \"/disk/atlas3/data_MC/ATLASOpen/jets/part1.root:JetRecoTree\" \n",
    "keys = [\"EventNumber\", \"EventWeight\", \"Clusters*\", \"TruthJets_R10*\"]\n",
    "save_path = \"./data\""
   ]
  },
  {
   "cell_type": "code",
   "execution_count": 3,
   "metadata": {},
   "outputs": [
    {
     "name": "stdout",
     "output_type": "stream",
     "text": [
      "['EventNumber', 'RunNumber', 'EventWeight', 'mu_average', 'mu_actual', 'NPV', 'Tracks_pt', 'Tracks_eta', 'Tracks_phi', 'Tracks_m', 'Tracks_vtx', 'Clusters_pt', 'Clusters_eta', 'Clusters_phi', 'Clusters_m', 'Particles_pt', 'Particles_eta', 'Particles_phi', 'Particles_m', 'Particles_pdgID', 'RecoJets_R4_pt', 'RecoJets_R4_eta', 'RecoJets_R4_phi', 'RecoJets_R4_m', 'RecoJets_R4_jvf', 'TrackJets_R4_pt', 'TrackJets_R4_eta', 'TrackJets_R4_phi', 'TrackJets_R4_m', 'RecoJets_R10_pt', 'RecoJets_R10_eta', 'RecoJets_R10_phi', 'RecoJets_R10_m', 'RecoJets_R10_D2beta1', 'RecoJets_R10_tau32wta', 'RecoJets_R10_Trimmed_pt', 'RecoJets_R10_Trimmed_eta', 'RecoJets_R10_Trimmed_phi', 'RecoJets_R10_Trimmed_m', 'RecoJets_R10_Trimmed_D2beta1', 'RecoJets_R10_Trimmed_tau32wta', 'TruthJets_R4_pt', 'TruthJets_R4_eta', 'TruthJets_R4_phi', 'TruthJets_R4_m', 'TruthJets_R10_pt', 'TruthJets_R10_eta', 'TruthJets_R10_phi', 'TruthJets_R10_m', 'TruthJets_R10_D2beta1', 'TruthJets_R10_tau32wta', 'TruthJets_R10_Trimmed_pt', 'TruthJets_R10_Trimmed_eta', 'TruthJets_R10_Trimmed_phi', 'TruthJets_R10_Trimmed_m', 'TruthJets_R10_Trimmed_D2beta1', 'TruthJets_R10_Trimmed_tau32wta']\n"
     ]
    }
   ],
   "source": [
    "#Open file in with-function will close it when you exit\n",
    "def get_branches(rootfile:str, keys):\n",
    "    with uproot.open(rootfile) as file:\n",
    "        print(file.keys())\n",
    "        events = file.arrays(filter_name=keys, library=\"ak\", how=\"zip\")\n",
    "        return events\n",
    "\n",
    "data = get_branches(data_path, keys)\n",
    "data[\"n_jets\"] = ak.num(data[\"TruthJets_R10\"])"
   ]
  },
  {
   "cell_type": "code",
   "execution_count": 4,
   "metadata": {},
   "outputs": [],
   "source": [
    "test = data[0:1000]\n",
    "test[\"Clusters\"] = ak.pad_none(test[\"Clusters\"], target=10, axis=1, clip=True)"
   ]
  },
  {
   "cell_type": "code",
   "execution_count": 5,
   "metadata": {},
   "outputs": [
    {
     "name": "stdout",
     "output_type": "stream",
     "text": [
      "Saving fold 0 with 500 events\n",
      "Saving fold 1 with 500 events\n"
     ]
    }
   ],
   "source": [
    "from lumin.data_processing.file_proc import aarr2foldfile\n",
    "\n",
    "\n",
    "aarr2foldfile(aarr=test, n_folds=2, cat_feats=[\"EventNumber\", \"EventWeight\"], \n",
    "                targ_feats=[\"n_jets\"], tensor_feats=[[\"Clusters\", [\"pt\", \"eta\", \"phi\"]]],\n",
    "                savename=save_path + \"/folds\", targ_type='int')"
   ]
  },
  {
   "cell_type": "code",
   "execution_count": 6,
   "metadata": {},
   "outputs": [
    {
     "name": "stdout",
     "output_type": "stream",
     "text": [
      "<KeysViewHDF5 ['fold_0', 'fold_1', 'meta_data']>\n",
      "<KeysViewHDF5 ['cat_feats', 'cont_feats', 'matrix_feats', 'targ_feats', 'tensor_feats']>\n",
      "<HDF5 dataset \"matrix_feats\": shape (), type \"|O\">\n",
      "<HDF5 dataset \"Clusters\": shape (500, 3, 10), type \"<f8\">\n"
     ]
    }
   ],
   "source": [
    "f = h5py.File('data/folds.hdf5', 'r')\n",
    "print(f.keys())\n",
    "print(f[\"meta_data\"].keys())\n",
    "print(f[\"meta_data\"][\"matrix_feats\"])\n",
    "print(f[\"fold_0\"][\"Clusters\"])"
   ]
  },
  {
   "cell_type": "code",
   "execution_count": 7,
   "metadata": {},
   "outputs": [
    {
     "name": "stdout",
     "output_type": "stream",
     "text": [
      "18\n",
      "0 [ 2  3  4  6  7  8  9 10 15 16 21 23 26 27 28]\n",
      "1 [ 0  1  5 11 12 13 14 17 18 19 20 22 24 25 29]\n",
      "15 * {\"EventNumber\": uint64, \"EventWeight\": float32, \"Clusters\": var * {\"pt\": float32, \"eta\": float32, \"phi\": float32, \"m\": float32}, \"TruthJets_R10\": var * {\"pt\": float32, \"eta\": float32, \"phi\": float32, \"m\": float32, \"D2beta1\": float32, \"tau32wta\": float32, \"Trimmed_pt\": float32, \"Trimmed_eta\": float32, \"Trimmed_phi\": float32, \"Trimmed_m\": float32, \"Trimmed_D2beta1\": float32, \"Trimmed_tau32wta\": float32}, \"n_jets\": int64}\n",
      "yep\n",
      "(15, 3, 10)\n",
      "<class 'numpy.ndarray'>\n"
     ]
    },
    {
     "name": "stderr",
     "output_type": "stream",
     "text": [
      "/home/agrefsru/.conda/envs/lumin/lib/python3.6/site-packages/sklearn/model_selection/_split.py:667: UserWarning: The least populated class in y has only 1 members, which is less than n_splits=2.\n",
      "  % (min_groups, self.n_splits)), UserWarning)\n"
     ]
    }
   ],
   "source": [
    "from awkward import Array as Array\n",
    "dictdata = {\"matrix\": [[1,2,3,4], [5, 6, 7, 8], [9, 9, 9, 9], [0, 0,0,0]], \"value\": [1, 2, 3, 4]}\n",
    "#X = ak.Array([[[1, 2, 3, 4], [1]], [[5, 6, 7, 8], [2]], [[9, 9, 9, 9], [3]], [[1, 1, 1, 1], [4]]])\n",
    "print(ak.to_list(data[\"n_jets\"][0:30]).count(2))\n",
    "X = ak.Array(data[0:30])\n",
    "y = np.array(data[\"n_jets\"][0:30])\n",
    "kf = StratifiedKFold(n_splits=2, random_state=None, shuffle=True)\n",
    "\"\"\"\n",
    "for train_index, test_index in kf.split(X, y=X[\"n_jets\"]):\n",
    "    print(\"TRAIN_idx:\", train_index, \"TEST_idx:\", test_index)\n",
    "    X_train, X_test = X[\"n_jets\"][train_index], X[\"n_jets\"][test_index]\n",
    "    y_train, y_test = y[train_index], y[test_index]\n",
    "    print(\"TRAIN:\", [[a, b] for a, b in zip(X_train, y_train)], \"TEST:\", [[a, b] for a, b in zip(X_test, y_test)])\n",
    "\"\"\"\n",
    "folds = kf.split(X=X, y=X[\"n_jets\"])\n",
    "for fold_idx, (_, fold) in enumerate(folds):\n",
    "    print(fold_idx, fold)\n",
    "    test = X[fold]\n",
    "#print(test[\"Clusters\"].fields)\n",
    "print(ak.type(test))\n",
    "test[\"Clusters\"] = ak.pad_none(test[\"Clusters\"], target=10, axis=1, clip=True)\n",
    "#print(ak.to_list(test[[\"EventNumber\", \"EventWeight\"]]))\n",
    "keys = [\"eta\", \"pt\", \"phi\"]\n",
    "in_fields = np.array([key in test[\"Clusters\"].fields for key in keys])\n",
    "if all([key in test[\"Clusters\"].fields for key in keys]):\n",
    "    print(\"yep\")\n",
    "else:\n",
    "    print(in_fields)\n",
    "    print(np.where(in_fields <1), keys[1:2])\n",
    "matrices = np.swapaxes(np.array([ak.to_list(test[\"Clusters\", key]) for key in keys]), 0, 1)\n",
    "\n",
    "matrix_data = np.swapaxes(np.array([ak.to_list(test[\"Clusters\", key]) for key in keys]), 0, 1)\n",
    "print(matrix_data.shape)\n",
    "print(type(matrix_data))\n",
    "#!rm './data/testing.hdf5'\n",
    "#out_file = h5py.File('./data/testing.hdf5', 'w')\n",
    "#grp = out_file.create_group('fold_1')\n",
    "#dset = grp.create_dataset(name = \"Testing\", shape=matrix_data.shape, dtype=matrix_data.dtype.name  if matrix_data.dtype.name not in ['object', 'str864'] else 'S64'\n",
    "#, data=matrix_data  if matrix_data.dtype.name not in ['object', 'str864'] else matrix_data.astype('S64'), compression=None)"
   ]
  },
  {
   "cell_type": "code",
   "execution_count": 8,
   "metadata": {},
   "outputs": [
    {
     "data": {
      "text/plain": [
       "False"
      ]
     },
     "execution_count": 8,
     "metadata": {},
     "output_type": "execute_result"
    }
   ],
   "source": [
    "type(data)==pd.DataFrame"
   ]
  },
  {
   "cell_type": "code",
   "execution_count": null,
   "metadata": {},
   "outputs": [],
   "source": []
  }
 ],
 "metadata": {
  "interpreter": {
   "hash": "c04cf3a51012b91b3501766aa873b06f3f5c476b9f6cb1e22dc5f11328a878e1"
  },
  "kernelspec": {
   "display_name": "Python 3.6.13 ('lumin')",
   "language": "python",
   "name": "python3"
  },
  "language_info": {
   "codemirror_mode": {
    "name": "ipython",
    "version": 3
   },
   "file_extension": ".py",
   "mimetype": "text/x-python",
   "name": "python",
   "nbconvert_exporter": "python",
   "pygments_lexer": "ipython3",
   "version": "3.6.13"
  },
  "orig_nbformat": 4
 },
 "nbformat": 4,
 "nbformat_minor": 2
}
